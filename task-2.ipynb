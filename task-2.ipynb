{
 "cells": [
  {
   "cell_type": "code",
   "execution_count": null,
   "id": "352bea8c",
   "metadata": {},
   "outputs": [],
   "source": [
    "import pandas as pd"
   ]
  },
  {
   "cell_type": "code",
   "execution_count": null,
   "id": "cfc839f2",
   "metadata": {},
   "outputs": [],
   "source": [
    "df = pd.read_csv(\"Location2.csv\")"
   ]
  },
  {
   "cell_type": "code",
   "execution_count": null,
   "id": "af9b4bf4",
   "metadata": {},
   "outputs": [],
   "source": [
    "df.head()"
   ]
  }
 ],
 "metadata": {},
 "nbformat": 4,
 "nbformat_minor": 5
}
